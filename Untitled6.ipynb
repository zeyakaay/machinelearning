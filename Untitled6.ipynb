{
  "nbformat": 4,
  "nbformat_minor": 0,
  "metadata": {
    "colab": {
      "name": "Untitled6.ipynb",
      "provenance": [],
      "authorship_tag": "ABX9TyOmzlC4mDMcjk6o3OzWOOFn",
      "include_colab_link": true
    },
    "kernelspec": {
      "name": "python3",
      "display_name": "Python 3"
    },
    "language_info": {
      "name": "python"
    }
  },
  "cells": [
    {
      "cell_type": "markdown",
      "metadata": {
        "id": "view-in-github",
        "colab_type": "text"
      },
      "source": [
        "<a href=\"https://colab.research.google.com/github/zeyakaay/machinelearning/blob/main/Untitled6.ipynb\" target=\"_parent\"><img src=\"https://colab.research.google.com/assets/colab-badge.svg\" alt=\"Open In Colab\"/></a>"
      ]
    },
    {
      "cell_type": "code",
      "execution_count": null,
      "metadata": {
        "id": "83h_W2nIxLY0"
      },
      "outputs": [],
      "source": [
        "import pandas as pd\n",
        "import numpy as np\n",
        "import matplotlib as plt\n",
        "from sklearn.linear_model import LinearRegression\n"
      ]
    },
    {
      "cell_type": "code",
      "source": [
        "df= pd.read_csv(\"/content/multiple-linear-regression-dataset.csv\", sep=\";\")\n",
        "\n",
        "x=df.iloc[:,[0,2]].values #iloc parçalamak için kullanılır tüm satıları ve 0 2. sütunu al \n",
        "y=df.salary.values.reshape(-1,1)\n",
        "\n",
        "print(x,y)"
      ],
      "metadata": {
        "colab": {
          "base_uri": "https://localhost:8080/"
        },
        "id": "4PwZqjyyxuMc",
        "outputId": "c8bb5dca-0e6b-410d-a516-241552995b16"
      },
      "execution_count": null,
      "outputs": [
        {
          "output_type": "stream",
          "name": "stdout",
          "text": [
            "[[ 0.5 22. ]\n",
            " [ 0.  21. ]\n",
            " [ 1.  23. ]\n",
            " [ 5.  25. ]\n",
            " [ 8.  28. ]\n",
            " [ 4.  23. ]\n",
            " [15.  35. ]\n",
            " [ 7.  29. ]\n",
            " [ 3.  22. ]\n",
            " [ 2.  23. ]\n",
            " [12.  32. ]\n",
            " [10.  30. ]\n",
            " [14.  34. ]\n",
            " [ 6.  27. ]] [[ 2500]\n",
            " [ 2250]\n",
            " [ 2750]\n",
            " [ 8000]\n",
            " [ 9000]\n",
            " [ 6900]\n",
            " [20000]\n",
            " [ 8500]\n",
            " [ 6000]\n",
            " [ 3500]\n",
            " [15000]\n",
            " [13000]\n",
            " [18000]\n",
            " [ 7500]]\n"
          ]
        }
      ]
    },
    {
      "cell_type": "code",
      "source": [
        "#%% fitting data\n",
        "multiple_linear_regression =LinearRegression()\n",
        "multiple_linear_regression.fit(x,y)\n",
        "\n",
        "print(\"b0 :\", multiple_linear_regression.intercept_)\n",
        "print(\"b1,b2: \", multiple_linear_regression.coef_)\n"
      ],
      "metadata": {
        "colab": {
          "base_uri": "https://localhost:8080/"
        },
        "id": "cYKHmI7TycX8",
        "outputId": "7f4ebdb3-f734-4d99-b27b-c1fbad265ad3"
      },
      "execution_count": null,
      "outputs": [
        {
          "output_type": "stream",
          "name": "stdout",
          "text": [
            "b0 : [10376.62747228]\n",
            "b1,b2,b3:  [[1525.50072054 -416.72218625]]\n"
          ]
        }
      ]
    },
    {
      "cell_type": "code",
      "source": [
        "#predict\n",
        "multiple_linear_regression.predict(np.array([[10,35],[5,35]]))"
      ],
      "metadata": {
        "colab": {
          "base_uri": "https://localhost:8080/"
        },
        "id": "cRAHymwz0Nl2",
        "outputId": "040f5636-f5fe-4b89-a4cd-c82173fe051f"
      },
      "execution_count": null,
      "outputs": [
        {
          "output_type": "execute_result",
          "data": {
            "text/plain": [
              "array([[11046.35815877],\n",
              "       [ 3418.85455609]])"
            ]
          },
          "metadata": {},
          "execution_count": 8
        }
      ]
    }
  ]
}